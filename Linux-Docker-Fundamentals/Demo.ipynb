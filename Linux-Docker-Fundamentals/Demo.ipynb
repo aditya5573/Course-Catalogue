{
  "cells": [
    {
      "cell_type": "markdown",
      "metadata": {
        "id": "DhbXxO4hB5ni"
      },
      "source": [
        "Code without visible output:"
      ]
    },
    {
      "cell_type": "code",
      "execution_count": null,
      "metadata": {
        "jupyter": {
          "outputs_hidden": false
        },
        "id": "zzaRW203B5nl"
      },
      "outputs": [],
      "source": [
        "a <- 8"
      ]
    },
    {
      "cell_type": "code",
      "execution_count": null,
      "metadata": {
        "jupyter": {
          "outputs_hidden": false
        },
        "id": "gtKRGbdRB5nn"
      },
      "outputs": [],
      "source": [
        "b <- 4:59"
      ]
    },
    {
      "cell_type": "markdown",
      "metadata": {
        "id": "tJ4Mug3VB5no"
      },
      "source": [
        "With visible output:"
      ]
    },
    {
      "cell_type": "code",
      "execution_count": null,
      "metadata": {
        "jupyter": {
          "outputs_hidden": false
        },
        "id": "psMykl-eB5no",
        "outputId": "2785ccba-3498-4245-ff74-91312524e0c9"
      },
      "outputs": [
        {
          "data": {
            "text/html": [
              "<style>\n",
              ".list-inline {list-style: none; margin:0; padding: 0}\n",
              ".list-inline>li {display: inline-block}\n",
              ".list-inline>li:not(:last-child)::after {content: \"\\00b7\"; padding: 0 .5ex}\n",
              "</style>\n",
              "<ol class=list-inline><li>12</li><li>13</li><li>14</li><li>15</li><li>16</li><li>17</li><li>18</li><li>19</li><li>20</li><li>21</li><li>22</li><li>23</li><li>24</li><li>25</li><li>26</li><li>27</li><li>28</li><li>29</li><li>30</li><li>31</li><li>32</li><li>33</li><li>34</li><li>35</li><li>36</li><li>37</li><li>38</li><li>39</li><li>40</li><li>41</li><li>42</li><li>43</li><li>44</li><li>45</li><li>46</li><li>47</li><li>48</li><li>49</li><li>50</li><li>51</li><li>52</li><li>53</li><li>54</li><li>55</li><li>56</li><li>57</li><li>58</li><li>59</li><li>60</li><li>61</li><li>62</li><li>63</li><li>64</li><li>65</li><li>66</li><li>67</li></ol>\n"
            ],
            "text/latex": [
              "\\begin{enumerate*}\n",
              "\\item 12\n",
              "\\item 13\n",
              "\\item 14\n",
              "\\item 15\n",
              "\\item 16\n",
              "\\item 17\n",
              "\\item 18\n",
              "\\item 19\n",
              "\\item 20\n",
              "\\item 21\n",
              "\\item 22\n",
              "\\item 23\n",
              "\\item 24\n",
              "\\item 25\n",
              "\\item 26\n",
              "\\item 27\n",
              "\\item 28\n",
              "\\item 29\n",
              "\\item 30\n",
              "\\item 31\n",
              "\\item 32\n",
              "\\item 33\n",
              "\\item 34\n",
              "\\item 35\n",
              "\\item 36\n",
              "\\item 37\n",
              "\\item 38\n",
              "\\item 39\n",
              "\\item 40\n",
              "\\item 41\n",
              "\\item 42\n",
              "\\item 43\n",
              "\\item 44\n",
              "\\item 45\n",
              "\\item 46\n",
              "\\item 47\n",
              "\\item 48\n",
              "\\item 49\n",
              "\\item 50\n",
              "\\item 51\n",
              "\\item 52\n",
              "\\item 53\n",
              "\\item 54\n",
              "\\item 55\n",
              "\\item 56\n",
              "\\item 57\n",
              "\\item 58\n",
              "\\item 59\n",
              "\\item 60\n",
              "\\item 61\n",
              "\\item 62\n",
              "\\item 63\n",
              "\\item 64\n",
              "\\item 65\n",
              "\\item 66\n",
              "\\item 67\n",
              "\\end{enumerate*}\n"
            ],
            "text/markdown": [
              "1. 12\n",
              "2. 13\n",
              "3. 14\n",
              "4. 15\n",
              "5. 16\n",
              "6. 17\n",
              "7. 18\n",
              "8. 19\n",
              "9. 20\n",
              "10. 21\n",
              "11. 22\n",
              "12. 23\n",
              "13. 24\n",
              "14. 25\n",
              "15. 26\n",
              "16. 27\n",
              "17. 28\n",
              "18. 29\n",
              "19. 30\n",
              "20. 31\n",
              "21. 32\n",
              "22. 33\n",
              "23. 34\n",
              "24. 35\n",
              "25. 36\n",
              "26. 37\n",
              "27. 38\n",
              "28. 39\n",
              "29. 40\n",
              "30. 41\n",
              "31. 42\n",
              "32. 43\n",
              "33. 44\n",
              "34. 45\n",
              "35. 46\n",
              "36. 47\n",
              "37. 48\n",
              "38. 49\n",
              "39. 50\n",
              "40. 51\n",
              "41. 52\n",
              "42. 53\n",
              "43. 54\n",
              "44. 55\n",
              "45. 56\n",
              "46. 57\n",
              "47. 58\n",
              "48. 59\n",
              "49. 60\n",
              "50. 61\n",
              "51. 62\n",
              "52. 63\n",
              "53. 64\n",
              "54. 65\n",
              "55. 66\n",
              "56. 67\n",
              "\n",
              "\n"
            ],
            "text/plain": [
              " [1] 12 13 14 15 16 17 18 19 20 21 22 23 24 25 26 27 28 29 30 31 32 33 34 35 36\n",
              "[26] 37 38 39 40 41 42 43 44 45 46 47 48 49 50 51 52 53 54 55 56 57 58 59 60 61\n",
              "[51] 62 63 64 65 66 67"
            ]
          },
          "metadata": {},
          "output_type": "display_data"
        }
      ],
      "source": [
        "a + b"
      ]
    },
    {
      "cell_type": "markdown",
      "metadata": {
        "id": "fv5T64tOB5np"
      },
      "source": [
        "Printing is captured and sent to the frontend:"
      ]
    },
    {
      "cell_type": "code",
      "execution_count": null,
      "metadata": {
        "jupyter": {
          "outputs_hidden": false
        },
        "id": "yECRU6J2B5np",
        "outputId": "c5bbc36b-cf7a-4efa-8d2c-2a81c9394afc"
      },
      "outputs": [
        {
          "name": "stdout",
          "output_type": "stream",
          "text": [
            "[1] \"Hello world! Love, R in Jupyter.\"\n"
          ]
        }
      ],
      "source": [
        "print('Hello world! Love, R in Jupyter.')"
      ]
    },
    {
      "cell_type": "markdown",
      "metadata": {
        "id": "OsL4cUEKB5nq"
      },
      "source": [
        "So are errors:"
      ]
    },
    {
      "cell_type": "code",
      "execution_count": null,
      "metadata": {
        "id": "uWqsKjaIB5nq"
      },
      "outputs": [],
      "source": [
        "f2 <- function() stop('deep error')\n",
        "throw <- function() f2()"
      ]
    },
    {
      "cell_type": "code",
      "execution_count": null,
      "metadata": {
        "jupyter": {
          "outputs_hidden": false
        },
        "id": "P0cpVpCFB5nr",
        "outputId": "5cf0e1f6-d25e-45dd-c368-d3a59df8939b"
      },
      "outputs": [
        {
          "data": {
            "text/html": [
              "'this line is run / displayed'"
            ],
            "text/latex": [
              "'this line is run / displayed'"
            ],
            "text/markdown": [
              "'this line is run / displayed'"
            ],
            "text/plain": [
              "[1] \"this line is run / displayed\""
            ]
          },
          "metadata": {},
          "output_type": "display_data"
        },
        {
          "ename": "ERROR",
          "evalue": "Error in f2(): deep error\n",
          "output_type": "error",
          "traceback": [
            "Error in f2(): deep error\nTraceback:\n",
            "1. throw()",
            "2. f2()   # at line 2 of file <text>",
            "3. stop(\"deep error\")   # at line 1 of file <text>"
          ]
        }
      ],
      "source": [
        "'this line is run / displayed'\n",
        "throw()\n",
        "'this line is not run / displayed'"
      ]
    },
    {
      "cell_type": "markdown",
      "metadata": {
        "id": "Dr6HQ1vRB5nr"
      },
      "source": [
        "Plotting works too:"
      ]
    },
    {
      "cell_type": "code",
      "execution_count": null,
      "metadata": {
        "jupyter": {
          "outputs_hidden": false
        },
        "id": "QSdXKnszB5nr",
        "outputId": "5dba82a5-c0cc-4780-f933-faf6198d8252"
      },
      "outputs": [
        {
          "data": {
            "image/png": "[encoded data removed]",
            "text/plain": [
              "plot without title"
            ]
          },
          "metadata": {
            "image/png": {
              "height": 420,
              "width": 420
            }
          },
          "output_type": "display_data"
        }
      ],
      "source": [
        "x <- seq(0, 2*pi, length.out=50)\n",
        "plot(x, sin(x))"
      ]
    }
  ],
  "metadata": {
    "kernelspec": {
      "display_name": "R",
      "language": "R",
      "name": "ir"
    },
    "language_info": {
      "codemirror_mode": "r",
      "file_extension": ".r",
      "mimetype": "text/x-r-source",
      "name": "R",
      "pygments_lexer": "r",
      "version": "4.0.3"
    },
    "colab": {
      "provenance": []
    }
  },
  "nbformat": 4,
  "nbformat_minor": 0
}